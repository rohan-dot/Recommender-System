{
 "cells": [
  {
   "cell_type": "code",
   "execution_count": 30,
   "metadata": {
    "_cell_guid": "b1076dfc-b9ad-4769-8c92-a6c4dae69d19",
    "_uuid": "8f2839f25d086af736a60e9eeb907d3b93b6e0e5"
   },
   "outputs": [
    {
     "name": "stdout",
     "output_type": "stream",
     "text": [
      "/kaggle/input/learn-ai-bbc/BBC News Train.csv\n",
      "/kaggle/input/learn-ai-bbc/BBC News Test.csv\n",
      "/kaggle/input/learn-ai-bbc/BBC News Sample Solution.csv\n"
     ]
    }
   ],
   "source": [
    "# This Python 3 environment comes with many helpful analytics libraries installed\n",
    "# It is defined by the kaggle/python docker image: https://github.com/kaggle/docker-python\n",
    "# For example, here's several helpful packages to load in \n",
    "\n",
    "import numpy as np # linear algebra\n",
    "import pandas as pd # data processing, CSV file I/O (e.g. pd.read_csv)\n",
    "\n",
    "# Input data files are available in the \"../input/\" directory.\n",
    "# For example, running this (by clicking run or pressing Shift+Enter) will list all files under the input directory\n",
    "\n",
    "import os\n",
    "for dirname, _, filenames in os.walk('/kaggle/input'):\n",
    "    for filename in filenames:\n",
    "        print(os.path.join(dirname, filename))\n",
    "\n",
    "# Any results you write to the current directory are saved as output."
   ]
  },
  {
   "cell_type": "code",
   "execution_count": 17,
   "metadata": {
    "_cell_guid": "79c7e3d0-c299-4dcb-8224-4455121ee9b0",
    "_uuid": "d629ff2d2480ee46fbb7e2d37f6b5fab8052498a"
   },
   "outputs": [],
   "source": [
    "train = pd.read_csv('/kaggle/input/learn-ai-bbc/BBC News Train.csv')"
   ]
  },
  {
   "cell_type": "code",
   "execution_count": 32,
   "metadata": {},
   "outputs": [
    {
     "data": {
      "text/html": [
       "<div>\n",
       "<style scoped>\n",
       "    .dataframe tbody tr th:only-of-type {\n",
       "        vertical-align: middle;\n",
       "    }\n",
       "\n",
       "    .dataframe tbody tr th {\n",
       "        vertical-align: top;\n",
       "    }\n",
       "\n",
       "    .dataframe thead th {\n",
       "        text-align: right;\n",
       "    }\n",
       "</style>\n",
       "<table border=\"1\" class=\"dataframe\">\n",
       "  <thead>\n",
       "    <tr style=\"text-align: right;\">\n",
       "      <th></th>\n",
       "      <th>ArticleId</th>\n",
       "      <th>Text</th>\n",
       "      <th>Category</th>\n",
       "    </tr>\n",
       "  </thead>\n",
       "  <tbody>\n",
       "    <tr>\n",
       "      <th>0</th>\n",
       "      <td>1833</td>\n",
       "      <td>worldcom ex-boss launches defence lawyers defe...</td>\n",
       "      <td>business</td>\n",
       "    </tr>\n",
       "    <tr>\n",
       "      <th>1</th>\n",
       "      <td>154</td>\n",
       "      <td>german business confidence slides german busin...</td>\n",
       "      <td>business</td>\n",
       "    </tr>\n",
       "    <tr>\n",
       "      <th>2</th>\n",
       "      <td>1101</td>\n",
       "      <td>bbc poll indicates economic gloom citizens in ...</td>\n",
       "      <td>business</td>\n",
       "    </tr>\n",
       "    <tr>\n",
       "      <th>3</th>\n",
       "      <td>1976</td>\n",
       "      <td>lifestyle  governs mobile choice  faster  bett...</td>\n",
       "      <td>tech</td>\n",
       "    </tr>\n",
       "    <tr>\n",
       "      <th>4</th>\n",
       "      <td>917</td>\n",
       "      <td>enron bosses in $168m payout eighteen former e...</td>\n",
       "      <td>business</td>\n",
       "    </tr>\n",
       "  </tbody>\n",
       "</table>\n",
       "</div>"
      ],
      "text/plain": [
       "   ArticleId                                               Text  Category\n",
       "0       1833  worldcom ex-boss launches defence lawyers defe...  business\n",
       "1        154  german business confidence slides german busin...  business\n",
       "2       1101  bbc poll indicates economic gloom citizens in ...  business\n",
       "3       1976  lifestyle  governs mobile choice  faster  bett...      tech\n",
       "4        917  enron bosses in $168m payout eighteen former e...  business"
      ]
     },
     "execution_count": 32,
     "metadata": {},
     "output_type": "execute_result"
    }
   ],
   "source": [
    "train.head()"
   ]
  },
  {
   "cell_type": "code",
   "execution_count": 33,
   "metadata": {},
   "outputs": [
    {
     "name": "stdout",
     "output_type": "stream",
     "text": [
      "(1490, 24456)\n"
     ]
    }
   ],
   "source": [
    "import pandas as pd\n",
    "from sklearn.feature_extraction.text import TfidfVectorizer\n",
    "from sklearn.metrics.pairwise import linear_kernel\n",
    "import pandas as pd\n",
    "import numpy as np\n",
    "from sklearn.feature_extraction import text\n",
    "transcripts = pd.read_csv('/kaggle/input/learn-ai-bbc/BBC News Train.csv')\n",
    "\n",
    "Text=transcripts['Text'].tolist()\n",
    "tfidf=text.TfidfVectorizer(input=Text,stop_words=\"english\") #stopwords removed\n",
    "matrix=tfidf.fit_transform(Text) # vector\n",
    "print(matrix.shape)"
   ]
  },
  {
   "cell_type": "code",
   "execution_count": 34,
   "metadata": {},
   "outputs": [],
   "source": [
    "from sklearn.metrics.pairwise import cosine_similarity\n",
    "sim_unigram=cosine_similarity(matrix)"
   ]
  },
  {
   "cell_type": "code",
   "execution_count": 35,
   "metadata": {},
   "outputs": [],
   "source": [
    "def get_similar_articles(x):\n",
    "    return \",\".join(transcripts['Text'].loc[x.argsort()[-5:-1]])\n",
    "transcripts['similar_articles_unigram']=[get_similar_articles(x) for x in sim_unigram]"
   ]
  },
  {
   "cell_type": "code",
   "execution_count": 37,
   "metadata": {},
   "outputs": [
    {
     "data": {
      "text/plain": [
       "'GERMAN BUSINESS CONFIDENCE SLIDES GERMAN BUSINESS CONFIDENCE FELL IN FEBRUARY KNOCKING HOPES OF A SPEEDY RECOVERY IN EUROPE S LARGEST ECONOMY.  MUNICH-BASED RESEARCH INSTITUTE IFO SAID THAT ITS CONFIDENCE INDEX FELL TO 95.5 IN FEBRUARY FROM 97.5 IN JANUARY  ITS FIRST DECLINE IN THREE MONTHS. THE STUDY FOUND THAT THE OUTLOOK IN BOTH THE MANUFACTURING AND RETAIL SECTORS HAD WORSENED. OBSERVERS HAD BEEN HOPING THAT A MORE CONFIDENT BUSINESS SECTOR WOULD SIGNAL THAT ECONOMIC ACTIVITY WAS PICKING UP.   WE RE SURPRISED THAT THE IFO INDEX HAS TAKEN SUCH A KNOCK   SAID DZ BANK ECONOMIST BERND WEIDENSTEINER.  THE MAIN REASON IS PROBABLY THAT THE DOMESTIC ECONOMY IS STILL WEAK  PARTICULARLY IN THE RETAIL TRADE.  ECONOMY AND LABOUR MINISTER WOLFGANG CLEMENT CALLED THE DIP IN FEBRUARY S IFO CONFIDENCE FIGURE  A VERY MILD DECLINE . HE SAID THAT DESPITE THE RETREAT  THE INDEX REMAINED AT A RELATIVELY HIGH LEVEL AND THAT HE EXPECTED  A MODEST ECONOMIC UPSWING  TO CONTINUE.  GERMANY S ECONOMY GREW 1.6% LAST YEAR AFTER SHRINKING IN 2003. HOWEVER  THE ECONOMY CONTRACTED BY 0.2% DURING THE LAST THREE MONTHS OF 2004  MAINLY DUE TO THE RELUCTANCE OF CONSUMERS TO SPEND. LATEST INDICATIONS ARE THAT GROWTH IS STILL PROVING ELUSIVE AND IFO PRESIDENT HANS-WERNER SINN SAID ANY IMPROVEMENT IN GERMAN DOMESTIC DEMAND WAS SLUGGISH. EXPORTS HAD KEPT THINGS GOING DURING THE FIRST HALF OF 2004  BUT DEMAND FOR EXPORTS WAS THEN HIT AS THE VALUE OF THE EURO HIT RECORD LEVELS MAKING GERMAN PRODUCTS LESS COMPETITIVE OVERSEAS. ON TOP OF THAT  THE UNEMPLOYMENT RATE HAS BEEN STUCK AT CLOSE TO 10% AND MANUFACTURING FIRMS  INCLUDING DAIMLERCHRYSLER  SIEMENS AND VOLKSWAGEN  HAVE BEEN NEGOTIATING WITH UNIONS OVER COST CUTTING MEASURES. ANALYSTS SAID THAT THE IFO FIGURES AND GERMANY S CONTINUING PROBLEMS MAY DELAY AN INTEREST RATE RISE BY THE EUROPEAN CENTRAL BANK. EUROZONE INTEREST RATES ARE AT 2%  BUT COMMENTS FROM SENIOR OFFICIALS HAVE RECENTLY FOCUSED ON THE THREAT OF INFLATION  PROMPTING FEARS THAT INTEREST RATES MAY RISE.'"
      ]
     },
     "execution_count": 37,
     "metadata": {},
     "output_type": "execute_result"
    }
   ],
   "source": [
    "transcripts['Text'].str.replace(\"_\",\" \").str.upper().str.strip()[1]"
   ]
  },
  {
   "cell_type": "code",
   "execution_count": 38,
   "metadata": {},
   "outputs": [
    {
     "data": {
      "text/plain": [
       "['UK INTEREST RATES HELD AT 4.75% THE BANK OF ENGLAND HAS LEFT INTEREST RATES ON HOLD AGAIN AT 4.75%  IN A WIDELY-PREDICTED MOVE.  RATES WENT UP FIVE TIMES FROM NOVEMBER 2003 - AS THE BANK SOUGHT TO COOL THE HOUSING MARKET AND CONSUMER DEBT - BUT HAVE REMAINED UNCHANGED SINCE AUGUST. RECENT DATA HAS INDICATED A SLOWDOWN IN MANUFACTURING AND CONSUMER SPENDING  AS WELL AS IN MORTGAGE APPROVALS. AND RETAIL SALES DISAPPOINTED OVER CHRISTMAS  WITH ANALYSTS PUTTING THE DROP DOWN TO LESS CONSUMER CONFIDENCE.  RISING INTEREST RATES AND THE ACCOMPANYING SLOWDOWN IN THE HOUSING MARKET HAVE KNOCKED CONSUMERS  OPTIMISM  CAUSING A SHARP FALL IN DEMAND FOR EXPENSIVE GOODS  ACCORDING TO A REPORT EARLIER THIS WEEK FROM THE BRITISH RETAIL CONSORTIUM. THE BRC SAID BRITAIN S RETAILERS HAD ENDURED THEIR WORST CHRISTMAS IN A DECADE.   TODAY S NO CHANGE DECISION IS CORRECT   SAID DAVID FROST  DIRECTOR GENERAL OF THE BRITISH CHAMBERS OF COMMERCE (BCC).  BUT  IF THERE ARE CLEAR SIGNS THAT THE ECONOMY SLOWS  THE MPC SHOULD BE READY TO TAKE QUICK CORRECTIVE ACTION AND CUT RATES.  DISMAL REPORTS FROM THE RETAIL TRADE ABOUT CHRISTMAS SALES ARE WORRYING  IF THEY INDICATE A MORE GENERAL WEAKENING IN CONSUMER SPENDING.   MR FROST ADDED:  THE HOUSING MARKET OUTLOOK REMAINS HIGHLY UNCERTAIN.  IT IS WIDELY ACCEPTED THAT  IF HOUSE PRICES START FALLING MORE SHARPLY  THE RISKS FACING THE ECONOMY WILL WORSEN CONSIDERABLY.  CBI CHIEF ECONOMIST IAN MCCAFFERTY SAID THE ECONOMY HAD  SLOWED IN RECENT MONTHS IN RESPONSE TO RATE RISES  BUT THAT IT WAS DIFFICULT TO GAUGE FROM THE CHRISTMAS PERIOD THE LIKELY PACE OF ACTIVITY THROUGH THE SUMMER.  THE BANK IS HAVING TO JUGGLE THE EMERGENCE OF INFLATIONARY PRESSURES  DRIVEN BY A TIGHT LABOUR MARKET AND BUOYANT COMMODITY PRICES  AGAINST THE RISK OF AN OVER-ABRUPT SLOWDOWN IN CONSUMER ACTIVITY   HE SAID.  INTEREST RATES ARE LIKELY TO REMAIN ON HOLD FOR SOME TIME.   ON THURSDAY THERE WAS MORE GLOOMY NEWS ON THE MANUFACTURING FRONT  AS THE OFFICE FOR NATIONAL (ONS) STATISTICS REVEALED BRITISH MANUFACTURING OUTPUT UNEXPECTEDLY FELL IN NOVEMBER - FOR THE FIFTH MONTH IN THE PAST SIX. THE ONS SAID MANUFACTURING OUTPUT DROPPED 0.1% IN NOVEMBER  MATCHING A SIMILAR UNREVISED FALL IN OCTOBER AND CONFOUNDING ECONOMISTS  EXPECTATIONS OF A 0.3% RISE. MANUFACTURERS  ORGANISATION  THE EEF  SAID IT EXPECTED THE HOLD IN INTEREST RATES TO CONTINUE IN THE NEAR FUTURE. IT ALSO SAID THERE WAS EVIDENCE THAT MANUFACTURERS  CONFIDENCE MAY BE WANING AS THE OUTLOOK FOR THE WORLD ECONOMY BECOMES MORE UNCERTAIN.   SO FAR THE EVIDENCE SUGGESTS THAT LAST YEAR S RATE INCREASES HAVE HELPED TO REBALANCE THE ECONOMY WITHOUT DAMAGING THE RECOVERY IN MANUFACTURING   SAID EEF CHIEF ECONOMIST  STEVE RADLEY.  HOWEVER  SHOULD THE BUSINESS OUTLOOK START TO DETERIORATE  THE BANK SHOULD STAND READY TO CUT RATES.  SOME ECONOMISTS HAVE PREDICTED RATES WILL DROP LATER IN THE YEAR  ALTHOUGH OTHERS FEEL THE BANK MAY STILL THINK THERE IS A NEED FOR A RISE TO 5% BEFORE THAT HAPPENS. THE BANK REMAINS CONCERNED ABOUT THE LONG-TERM RISKS POSED BY PERSONAL DEBT - WHICH IS RISING AT 15% A YEAR - IF ECONOMIC CONDITIONS WORSEN.,AUSTRALIA RATES AT FOUR YEAR HIGH AUSTRALIA IS RAISING ITS BENCHMARK INTEREST RATE TO ITS HIGHEST LEVEL IN FOUR YEARS DESPITE SIGNS OF A SLOWDOWN IN THE COUNTRY S ECONOMY.  THE RESERVE BANK OF AUSTRALIA LIFTED INTEREST RATES 0.25% TO 5.5%  THEIR FIRST UPWARDS MOVE IN MORE THAN A YEAR. HOWEVER  SHORTLY AFTER THE BANK MADE ITS DECISION  NEW FIGURES SHOWED A FALL IN ECONOMIC GROWTH IN THE LAST QUARTER. THE BANK SAID IT HAD ACTED TO CURB INFLATION BUT THE MOVE WAS CRITICISED BY SOME ANALYSTS.  THE RATE HIKE WAS THE FIRST SINCE DECEMBER 2003 AND HAD BEEN WELL-FLAGGED IN ADVANCE. HOWEVER  OPPOSITION PARTIES AND SOME ANALYSTS SAID THE MOVE WAS ILL-TIMED GIVEN DATA SHOWING THE AUSTRALIAN ECONOMY GREW JUST 0.1% BETWEEN OCTOBER AND DECEMBER AND 1.5% ON AN ANNUAL BASIS.  THE FIGURES  REPRESENTING A DECLINE FROM THE 0.2% GROWTH IN GDP SEEN BETWEEN JULY AND SEPTEMBER  WERE BELOW MARKET EXPECTATIONS. CONSUMER SPENDING REMAINS STRONG  HOWEVER  AND THE BANK IS CONCERNED ABOUT GROWING INFLATIONARY PRESSURES.  OVER RECENT MONTHS IT HAS BECOME INCREASINGLY CLEAR THAT REMAINING SPARE CAPACITY IN THE LABOUR AND GOODS MARKETS IS BECOMING RATHER LIMITED   SAID IAN MACFARLANE  GOVERNOR OF THE RESERVE BANK.  AT 2.6%  INFLATION REMAINS WITHIN THE BANK S 2-3% TARGET RANGE. HOWEVER  EXPORTS DECLINED IN THE SECOND HALF OF 2004  FUELLING A RISE IN THE COUNTRY S CURRENT ACCOUNT DEFICIT - THE DIFFERENCE IN THE VALUE OF IMPORTS COMPARED TO EXPORTS - TO A RECORD AUSTRALIAN DOLLAR 29.4BN. THE AUSTRALIAN GOVERNMENT SAID THE ECONOMY REMAINED STRONG WITH UNEMPLOYMENT AT A NEAR 30 YEAR LOW.  THE ECONOMY HAS BEEN STRONG AND IT IS PROPERLY MODERATING BUT IT DOESN T LOOK TO ME LIKE IT S SLOWING IN ANY UNREASONABLE WAY   SAID TREASURER PETER COSTELLO. STOCK MARKETS HAD FACTORED IN THE LIKELIHOOD OF A RATE RISE BUT ANALYSTS STILL EXPRESSED CONCERN ABOUT THE STRENGTH OF THE ECONOMY.  THAT 1.5% ANNUAL GROWTH RATE IS THE LOWEST WE HAVE SEEN SINCE THE POST-ELECTION SLUMP WE SAW BACK IN 2000-1   SAID MICHAEL BLYTHE  CHIEF ECONOMIST AT THE COMMONWEALTH BANK OF AUSTRALIA.  THIS SUGGESTS THE ECONOMY REALLY DID SLOW VERY SHARPLY IN THE SECOND HALF OF 2004.,UK ECONOMY FACING  MAJOR RISKS  THE UK MANUFACTURING SECTOR WILL CONTINUE TO FACE  SERIOUS CHALLENGES  OVER THE NEXT TWO YEARS  THE BRITISH CHAMBER OF COMMERCE (BCC) HAS SAID.  THE GROUP S QUARTERLY SURVEY OF COMPANIES FOUND EXPORTS HAD PICKED UP IN THE LAST THREE MONTHS OF 2004 TO THEIR BEST LEVELS IN EIGHT YEARS. THE RISE CAME DESPITE EXCHANGE RATES BEING CITED AS A MAJOR CONCERN. HOWEVER  THE BCC FOUND THE WHOLE UK ECONOMY STILL FACED  MAJOR RISKS  AND WARNED THAT GROWTH IS SET TO SLOW. IT RECENTLY FORECAST ECONOMIC GROWTH WILL SLOW FROM MORE THAN 3% IN 2004 TO A LITTLE BELOW 2.5% IN BOTH 2005 AND 2006.  MANUFACTURERS  DOMESTIC SALES GROWTH FELL BACK SLIGHTLY IN THE QUARTER  THE SURVEY OF 5 196 FIRMS FOUND. EMPLOYMENT IN MANUFACTURING ALSO FELL AND JOB EXPECTATIONS WERE AT THEIR LOWEST LEVEL FOR A YEAR.   DESPITE SOME POSITIVE NEWS FOR THE EXPORT SECTOR  THERE ARE WORRYING SIGNS FOR MANUFACTURING   THE BCC SAID.  THESE RESULTS REINFORCE OUR CONCERN OVER THE SECTOR S PERSISTENT INABILITY TO SUSTAIN RECOVERY.  THE OUTLOOK FOR THE SERVICE SECTOR WAS  UNCERTAIN  DESPITE AN INCREASE IN EXPORTS AND ORDERS OVER THE QUARTER  THE BCC NOTED.  THE BCC FOUND CONFIDENCE INCREASED IN THE QUARTER ACROSS BOTH THE MANUFACTURING AND SERVICE SECTORS ALTHOUGH OVERALL IT FAILED TO REACH THE LEVELS AT THE START OF 2004. THE REDUCED THREAT OF INTEREST RATE INCREASES HAD CONTRIBUTED TO IMPROVED CONFIDENCE  IT SAID. THE BANK OF ENGLAND RAISED INTEREST RATES FIVE TIMES BETWEEN NOVEMBER 2003 AND AUGUST LAST YEAR. BUT RATES HAVE BEEN KEPT ON HOLD SINCE THEN AMID SIGNS OF FALLING CONSUMER CONFIDENCE AND A SLOWDOWN IN OUTPUT.  THE PRESSURE ON COSTS AND MARGINS  THE RELENTLESS INCREASE IN REGULATIONS  AND THE THREAT OF HIGHER TAXES REMAIN SERIOUS PROBLEMS   BCC DIRECTOR GENERAL DAVID FROST SAID.  WHILE CONSUMER SPENDING IS SET TO DECELERATE SIGNIFICANTLY OVER THE NEXT 12-18 MONTHS  IT IS UNLIKELY THAT INVESTMENT AND EXPORTS WILL RISE SUFFICIENTLY STRONGLY TO PICK UP THE SLACK.,GERMAN GROWTH GOES INTO REVERSE GERMANY S ECONOMY SHRANK 0.2% IN THE LAST THREE MONTHS OF 2004  UPSETTING HOPES OF A SUSTAINED RECOVERY.  THE FIGURES CONFOUNDED HOPES OF A 0.2% EXPANSION IN THE FOURTH QUARTER IN EUROPE S BIGGEST ECONOMY. THE FEDERAL STATISTICS OFFICE SAID GROWTH FOR THE WHOLE OF 2004 WAS 1.6%  AFTER A YEAR OF CONTRACTION IN 2003  DOWN FROM AN EARLIER ESTIMATE OF 1.7%. IT SAID GROWTH IN THE THIRD QUARTER HAD BEEN ZERO  PUTTING THE ECONOMY AT A STANDSTILL FROM JULY ONWARD. GERMANY HAS BEEN RELIANT ON EXPORTS TO GET ITS ECONOMY BACK ON TRACK  AS UNEMPLOYMENT OF MORE THAN FIVE MILLION AND IMPENDING CUTS TO WELFARE MEAN GERMAN CONSUMERS HAVE KEPT THEIR MONEY TO THEMSELVES. MAJOR COMPANIES INCLUDING VOLKSWAGEN  DAIMLERCHRYSLER AND SIEMENS HAVE SPENT MUCH OF 2004 IN TOUGH TALKS WITH UNIONS ABOUT TRIMMING JOBS AND COSTS. ACCORDING TO THE STATISTICS OFFICE  DESTATIS  RISING EXPORTS WERE OUTWEIGHED IN THE FOURTH QUARTER BY THE CONTINUING WEAKNESS OF DOMESTIC DEMAND.  BUT THE RELENTLESS RISE IN THE VALUE OF THE EURO LAST YEAR HAS ALSO HIT THE COMPETITIVENESS OF GERMAN PRODUCTS OVERSEAS. THE EFFECT HAS BEEN TO DEPRESS PROSPECTS FOR THE 12-NATION EUROZONE AS A WHOLE  AS WELL AS GERMANY. EUROZONE INTEREST RATES ARE AT 2%  BUT SENIOR OFFICIALS AT THE RATE-SETTING EUROPEAN CENTRAL BANK ARE BEGINNING TO TALK ABOUT THE THREAT OF INFLATION  PROMPTING FEARS THAT INTEREST RATES MAY RISE. THE ECB S MANDATE IS TO FIGHT RISING PRICES BY BOOSTING INTEREST RATES - AND THAT COULD FURTHER THREATEN GERMANY S HOPES OF RECOVERY.']"
      ]
     },
     "execution_count": 38,
     "metadata": {},
     "output_type": "execute_result"
    }
   ],
   "source": [
    "transcripts['similar_articles_unigram'].str.replace(\"_\",\" \").str.upper().str.strip().str.split(\"\\n\")[1]"
   ]
  },
  {
   "cell_type": "code",
   "execution_count": 29,
   "metadata": {},
   "outputs": [
    {
     "ename": "NameError",
     "evalue": "name 'transcript' is not defined",
     "output_type": "error",
     "traceback": [
      "\u001b[0;31m---------------------------------------------------------------------------\u001b[0m",
      "\u001b[0;31mNameError\u001b[0m                                 Traceback (most recent call last)",
      "\u001b[0;32m<ipython-input-29-a8df70e73859>\u001b[0m in \u001b[0;36m<module>\u001b[0;34m\u001b[0m\n\u001b[0;32m----> 1\u001b[0;31m \u001b[0mtranscript\u001b[0m\u001b[0;34m.\u001b[0m\u001b[0mhead\u001b[0m\u001b[0;34m(\u001b[0m\u001b[0;34m)\u001b[0m\u001b[0;34m\u001b[0m\u001b[0m\n\u001b[0m",
      "\u001b[0;31mNameError\u001b[0m: name 'transcript' is not defined"
     ]
    }
   ],
   "source": []
  },
  {
   "cell_type": "code",
   "execution_count": null,
   "metadata": {},
   "outputs": [],
   "source": []
  }
 ],
 "metadata": {
  "kernelspec": {
   "display_name": "Python 3",
   "language": "python",
   "name": "python3"
  },
  "language_info": {
   "codemirror_mode": {
    "name": "ipython",
    "version": 3
   },
   "file_extension": ".py",
   "mimetype": "text/x-python",
   "name": "python",
   "nbconvert_exporter": "python",
   "pygments_lexer": "ipython3",
   "version": "3.7.3"
  }
 },
 "nbformat": 4,
 "nbformat_minor": 1
}
